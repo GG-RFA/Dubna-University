{
 "cells": [
  {
   "cell_type": "markdown",
   "id": "a4b6e4da-bec5-4877-b1d5-deeae831220d",
   "metadata": {},
   "source": [
    "# Семинар 3. Разработка конечного автомата"
   ]
  },
  {
   "cell_type": "markdown",
   "id": "dcce0a24-2d0a-45bc-ac7f-bfe87e72bf15",
   "metadata": {},
   "source": [
    "#### 1. Реализация лексического анализатора целочисленных констант через автомат (и вспомогательные функции)"
   ]
  },
  {
   "cell_type": "code",
   "execution_count": 14,
   "id": "7111d9c7-c58b-4694-9056-7d062e2ac1e5",
   "metadata": {},
   "outputs": [],
   "source": [
    "# Реализация автомата (закоментированы выводы print)\n",
    "class auto:\n",
    "    __q = []\n",
    "    __abc = []\n",
    "    __q0 = None\n",
    "    __f = []\n",
    "    __delta = []\n",
    "    __condition = None\n",
    "\n",
    "    def __init__(self, Q, ABC, DELTA, Q0, F):\n",
    "        self.__q = Q\n",
    "        self.__abc = ABC\n",
    "        self.__delta = DELTA\n",
    "        self.__q0 = Q0\n",
    "        self.__f = F\n",
    "        self.__condition = Q0\n",
    "\n",
    "    def get_q(self):\n",
    "        return self.__q\n",
    "\n",
    "    def get_abc(self):\n",
    "        return self.__abc\n",
    "\n",
    "    def get_q0(self):\n",
    "        return self.__q0\n",
    "\n",
    "    def get_f(self):\n",
    "        return self.__f\n",
    "\n",
    "    def get_delta(self):\n",
    "        return self.__delta\n",
    "\n",
    "    def get_condition(self):\n",
    "        return self.__condition\n",
    "\n",
    "    def work(self, L):\n",
    "        self.__condition = self.__q0\n",
    "        for i in L:\n",
    "            if not(i in self.__abc):\n",
    "                #print(\"Строка содержит недопустимый символ алфавита: \"+i)\n",
    "                return False\n",
    "            p = False\n",
    "            for j in self.__delta:\n",
    "                if (self.__condition == j[0]) & (i == j[1]):\n",
    "                    self.__condition = j[2]\n",
    "                    p = True\n",
    "                    break\n",
    "            if not(p):\n",
    "                #print(\"Для символа \"+i+\" подходящее правило не найдено\")\n",
    "                return False\n",
    "        if self.__condition in self.__f:\n",
    "            return True\n",
    "        else:\n",
    "            return False\n",
    "\n",
    "# Функция считывания данных из файла\n",
    "def read_file(f):\n",
    "    ff = open(f, 'r')\n",
    "    result = \"\"\n",
    "    for i in ff:\n",
    "        result += i\n",
    "    return result + \" \" # Добавляем любой символ, чтобы учесть последнее число\n",
    "\n",
    "# Функция замены и встраивания в список слов, которые содержат символы алфавита (abc)\n",
    "def replace_and_list(text, abc):\n",
    "    textList = list(text)\n",
    "    result = list()\n",
    "\n",
    "    isNegative = False\n",
    "    nowString = False\n",
    "\n",
    "    for i in textList:\n",
    "        if (i in abc): # Если присутствует любая цифра\n",
    "            if nowString: # Если строка уже начата\n",
    "                string += i\n",
    "            else: # Если нет - открываем строку\n",
    "                nowString = True\n",
    "                string = \"\"\n",
    "                string += i\n",
    "        else:\n",
    "            if nowString:\n",
    "                nowString = False\n",
    "                string += '!'\n",
    "                if isNegative:\n",
    "                    result.append('-' + string)\n",
    "                else:\n",
    "                    result.append(string)\n",
    "            if (i == \"-\"):\n",
    "                isNegative = True\n",
    "            else:\n",
    "                isNegative = False\n",
    "    return result\n"
   ]
  },
  {
   "cell_type": "code",
   "execution_count": 15,
   "id": "135a7808-eb9f-447c-921c-21c392845182",
   "metadata": {},
   "outputs": [],
   "source": [
    "A=auto(['H','U','P','N','Z','G','F','E'], ['!','+','-','0','1','2','3','4','5','6','7','8','9'], [['H','!','H'],['H','1','U'],['H','2','U'],['H','3','U'],['H','4','U'],['H','5','U'],['H','6','U'],['H','7','U'],['H','8','U'],['H','9','U'],['H','+','P'],['H','-','N'],['H','0','Z'],['P','0','Z'],['P','!','G'],['P','+','G'],['P','-','G'],['P','1','U'],['P','2','U'],['P','3','U'],['P','4','U'],['P','5','U'],['P','6','U'],['P','7','U'],['P','8','U'],['P','9','U'],['U','0','U'],['U','1','U'],['U','2','U'],['U','3','U'],['U','4','U'],['U','5','U'],['U','6','U'],['U','7','U'],['U','8','U'],['U','9','U'],['U','!','F'],['U','+','F'],['U','-','F'],['N','!','G'],['N','+','G'],['N','-','G'],['N','0','Z'],['N','1','U'],['N','2','U'],['N','3','U'],['N','4','U'],['N','5','U'],['N','6','U'],['N','7','U'],['N','8','U'],['N','9','U'],['Z','!','F'],['Z','+','F'],['Z','-','F'],['Z','0','G'],['Z','1','G'],['Z','2','G'],['Z','3','G'],['Z','4','G'],['Z','5','G'],['Z','6','G'],['Z','7','G'],['Z','8','G'],['Z','9','G'],['G','0','G'],['G','1','G'],['G','2','G'],['G','3','G'],['G','4','G'],['G','5','G'],['G','6','G'],['G','7','G'],['G','8','G'],['G','9','G'],['G','!','E'],['G','+','E'],['G','-','E']], 'H', ['F','E'])\n"
   ]
  },
  {
   "cell_type": "code",
   "execution_count": 26,
   "id": "c787d7f6-a743-4cc4-b6ee-2536ecd05cbf",
   "metadata": {},
   "outputs": [
    {
     "data": {
      "text/plain": [
       "'482468hjhvfnierthgiuxmewruymebu xmyeurbvxmueby!31827936189459! !87-rxznbmcnfsmxi -001239123+\\ngy0078391273896578+gxermxvyuibxmerbmui\\n!!46783!--+2689156923kuimixeu+68796897+vcwfemhfuixwen,ix,opui-4d8w42+69+7\\nhi-0003237+31678462--=uqy63417862487 '"
      ]
     },
     "execution_count": 26,
     "metadata": {},
     "output_type": "execute_result"
    }
   ],
   "source": [
    "string = read_file('123.txt')\n",
    "string"
   ]
  },
  {
   "cell_type": "code",
   "execution_count": 27,
   "id": "6bc08417",
   "metadata": {},
   "outputs": [
    {
     "data": {
      "text/plain": [
       "['482468!',\n",
       " '31827936189459!',\n",
       " '87!',\n",
       " '-001239123!',\n",
       " '0078391273896578!',\n",
       " '46783!',\n",
       " '2689156923!',\n",
       " '68796897!',\n",
       " '-4!',\n",
       " '8!',\n",
       " '42!',\n",
       " '69!',\n",
       " '7!',\n",
       " '-0003237!',\n",
       " '31678462!',\n",
       " '63417862487!']"
      ]
     },
     "execution_count": 27,
     "metadata": {},
     "output_type": "execute_result"
    }
   ],
   "source": [
    "list_int = replace_and_list(string, ['0','1','2','3','4','5','6','7','8','9'])\n",
    "list_int"
   ]
  },
  {
   "cell_type": "code",
   "execution_count": 28,
   "id": "10fb5d0c",
   "metadata": {},
   "outputs": [
    {
     "name": "stdout",
     "output_type": "stream",
     "text": [
      "Строка '482468!': F\n",
      "Строка '31827936189459!': F\n",
      "Строка '87!': F\n",
      "Строка '-001239123!': E\n",
      "Строка '0078391273896578!': E\n",
      "Строка '46783!': F\n",
      "Строка '2689156923!': F\n",
      "Строка '68796897!': F\n",
      "Строка '-4!': F\n",
      "Строка '8!': F\n",
      "Строка '42!': F\n",
      "Строка '69!': F\n",
      "Строка '7!': F\n",
      "Строка '-0003237!': E\n",
      "Строка '31678462!': F\n",
      "Строка '63417862487!': F\n"
     ]
    }
   ],
   "source": [
    "for i in list_int:\n",
    "    print(\"Строка '\" + i + \"': \", end=\"\")\n",
    "    if A.work(i):\n",
    "        print(A.get_condition())\n",
    "    else:\n",
    "        print(\"Строка не распознана\")"
   ]
  },
  {
   "cell_type": "code",
   "execution_count": 29,
   "id": "1b298fc9",
   "metadata": {},
   "outputs": [
    {
     "data": {
      "text/plain": [
       "[482468,\n",
       " 31827936189459,\n",
       " 87,\n",
       " 46783,\n",
       " 2689156923,\n",
       " 68796897,\n",
       " -4,\n",
       " 8,\n",
       " 42,\n",
       " 69,\n",
       " 7,\n",
       " 63417862487]"
      ]
     },
     "execution_count": 29,
     "metadata": {},
     "output_type": "execute_result"
    }
   ],
   "source": [
    "result_list = list()\n",
    "for i in list_int:\n",
    "    if A.work(i):\n",
    "        if A.get_condition() == \"F\":\n",
    "            string = \"\"\n",
    "            for u in list(i):\n",
    "                if not (u == \"!\"):\n",
    "                    string += u\n",
    "            result_list.append(int(string))\n",
    "        else:\n",
    "            list_int.remove(i)\n",
    "    else:\n",
    "        list_int.remove(i)\n",
    "result_list"
   ]
  },
  {
   "cell_type": "markdown",
   "id": "7fd22385",
   "metadata": {},
   "source": [
    "#### 2. Реализация лексического анализатора целочисленных констант через функцию int"
   ]
  },
  {
   "cell_type": "code",
   "execution_count": 30,
   "id": "b23d260c",
   "metadata": {},
   "outputs": [],
   "source": [
    "# Функция считывания данных из файла\n",
    "def read_file(f):\n",
    "    ff = open(f, 'r')\n",
    "    result = \"\"\n",
    "    for i in ff:\n",
    "        result += i\n",
    "    return result + \" \" # Добавляем любой символ, чтобы учесть последнее число\n",
    "\n",
    "# Функция замены и встраивания в список слов, которые содержат символы алфавита (abc)\n",
    "def replace_and_list_int(text, abc):\n",
    "    textList = list(text)\n",
    "    result = list()\n",
    "\n",
    "    isNegative = False\n",
    "    nowString = False\n",
    "\n",
    "    for i in textList:\n",
    "        if (i in abc): # Если присутствует любая цифра\n",
    "            if nowString: # Если строка уже начата\n",
    "                string += i\n",
    "            else: # Если нет - открываем строку\n",
    "                nowString = True\n",
    "                string = \"\"\n",
    "                string += i\n",
    "        else:\n",
    "            if nowString:\n",
    "                nowString = False\n",
    "                if isNegative:\n",
    "                    result.append(int(string) * -1)\n",
    "                else:\n",
    "                    result.append(int(string))\n",
    "            if (i == \"-\"):\n",
    "                isNegative = True\n",
    "            else:\n",
    "                isNegative = False\n",
    "    return result\n"
   ]
  },
  {
   "cell_type": "code",
   "execution_count": 31,
   "id": "21d06815",
   "metadata": {},
   "outputs": [
    {
     "data": {
      "text/plain": [
       "'482468hjhvfnierthgiuxmewruymebu xmyeurbvxmueby!31827936189459! !87-rxznbmcnfsmxi -001239123+\\ngy0078391273896578+gxermxvyuibxmerbmui\\n!!46783!--+2689156923kuimixeu+68796897+vcwfemhfuixwen,ix,opui-4d8w42+69+7\\nhi-0003237+31678462--=uqy63417862487 '"
      ]
     },
     "execution_count": 31,
     "metadata": {},
     "output_type": "execute_result"
    }
   ],
   "source": [
    "string = read_file('123.txt')\n",
    "string"
   ]
  },
  {
   "cell_type": "code",
   "execution_count": 32,
   "id": "073becef",
   "metadata": {},
   "outputs": [
    {
     "data": {
      "text/plain": [
       "[482468,\n",
       " 31827936189459,\n",
       " 87,\n",
       " -1239123,\n",
       " 78391273896578,\n",
       " 46783,\n",
       " 2689156923,\n",
       " 68796897,\n",
       " -4,\n",
       " 8,\n",
       " 42,\n",
       " 69,\n",
       " 7,\n",
       " -3237,\n",
       " 31678462,\n",
       " 63417862487]"
      ]
     },
     "execution_count": 32,
     "metadata": {},
     "output_type": "execute_result"
    }
   ],
   "source": [
    "list_int = replace_and_list_int(string, ['0','1','2','3','4','5','6','7','8','9'])\n",
    "list_int"
   ]
  }
 ],
 "metadata": {
  "kernelspec": {
   "display_name": "Python 3 (ipykernel)",
   "language": "python",
   "name": "python3"
  },
  "language_info": {
   "codemirror_mode": {
    "name": "ipython",
    "version": 3
   },
   "file_extension": ".py",
   "mimetype": "text/x-python",
   "name": "python",
   "nbconvert_exporter": "python",
   "pygments_lexer": "ipython3",
   "version": "3.7.8"
  }
 },
 "nbformat": 4,
 "nbformat_minor": 5
}
